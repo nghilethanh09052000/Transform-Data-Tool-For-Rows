{
 "cells": [
  {
   "cell_type": "code",
   "execution_count": 69,
   "metadata": {},
   "outputs": [],
   "source": [
    "import pandas as pd\n",
    "import numpy as np \n",
    "import matplotlib.pyplot as plt\n",
    "import re\n",
    "from google.colab import files\n",
    "import sys, os\n",
    "import zipfile\n",
    "from zipfile import ZipFile"
   ]
  },
  {
   "cell_type": "code",
   "execution_count": 74,
   "metadata": {},
   "outputs": [],
   "source": [
    "def createData(i):\n",
    "  data=pd.read_csv(i,header=None) # We should remove rows 1 as column\n",
    "  orderQuestionTitle = pd.read_json('questionTitle.json')\n",
    "  orderQuestionArray = orderQuestionTitle.values.tolist()\n",
    "  # Restructure Rows\n",
    "  for values in data.values:\n",
    "    for row in values:\n",
    "      if re.search(\"^Q9[a-z]*|^Q12[a-z]*|^Q13[a-z]*\",row):\n",
    "        for content in orderQuestionArray:\n",
    "          if row.split(\".\")[1].replace(\"_\",\" \").strip() in content[1].strip():\n",
    "            newValue = re.sub(row.split(\".\")[0], content[0], row )\n",
    "            data = data.replace(row,newValue)\n",
    "            break\n",
    "\n",
    "  # Question data must be in even rows:\n",
    "  \n",
    "  # Question Nine:\n",
    "  questionNine = data.iloc[:, 14:23]\n",
    "  questionNine[0::2] = np.sort(questionNine[0::2].values)\n",
    "\n",
    "  # Question Twelve:\n",
    "  questionTwelve = data.iloc[:, 26:35]\n",
    "  questionTwelve[0::2] = np.sort(questionTwelve[0::2].values)\n",
    "\n",
    "  # Question Thirteen:\n",
    "  questionThirteen = data.iloc[:, 35:46]\n",
    "  questionThirteen[0::2] = np.sort(questionThirteen[0::2].values)\n",
    "\n",
    "  data.iloc[:, 14:23] = questionNine\n",
    "  data.iloc[:, 26:35] = questionTwelve\n",
    "  data.iloc[:, 35:46] = questionThirteen\n",
    "\n",
    "  # Transform rows 1 to header:\n",
    "  headers = data.iloc[0]\n",
    "  newdata  = pd.DataFrame(data.values[1:], columns=headers)\n",
    "\n",
    "  # Init zip files:\n",
    "  with zf.open(i, \"w\") as buffer:\n",
    "    newdata.to_csv(buffer, encoding='utf-8', index=False)"
   ]
  },
  {
   "cell_type": "code",
   "execution_count": 75,
   "metadata": {},
   "outputs": [
    {
     "data": {
      "text/plain": [
       "0    <function transFormId at 0x000002692412DAB0>\n",
       "1    <function transFormId at 0x000002692412DAB0>\n",
       "2    <function transFormId at 0x000002692412DAB0>\n",
       "3    <function transFormId at 0x000002692412DAB0>\n",
       "4    <function transFormId at 0x000002692412DAB0>\n",
       "5    <function transFormId at 0x000002692412DAB0>\n",
       "dtype: object"
      ]
     },
     "execution_count": 75,
     "metadata": {},
     "output_type": "execute_result"
    }
   ],
   "source": [
    "curDir = os.getcwd()\n",
    "filesDir = os.listdir(curDir)\n",
    "csvReg = \".(\\.csv)$\"\n",
    "csvFiles = filter(lambda x: re.search(csvReg,x),filesDir)\n",
    "with zipfile.ZipFile(\"DATA.zip\", \"w\") as zf:\n",
    "  for i in csvFiles:\n",
    "    createData(str(i))"
   ]
  },
  {
   "cell_type": "code",
   "execution_count": null,
   "metadata": {},
   "outputs": [],
   "source": [
    "files.download(\"DATA.zip\")"
   ]
  },
  {
   "cell_type": "code",
   "execution_count": null,
   "metadata": {},
   "outputs": [],
   "source": []
  }
 ],
 "metadata": {
  "kernelspec": {
   "display_name": "Python 3.10.8 64-bit (microsoft store)",
   "language": "python",
   "name": "python3"
  },
  "language_info": {
   "codemirror_mode": {
    "name": "ipython",
    "version": 3
   },
   "file_extension": ".py",
   "mimetype": "text/x-python",
   "name": "python",
   "nbconvert_exporter": "python",
   "pygments_lexer": "ipython3",
   "version": "3.10.8"
  },
  "orig_nbformat": 4,
  "vscode": {
   "interpreter": {
    "hash": "f12fa5512efcd19ca575c8285a052383d04af681f7509aa6cd7d4b7f7197f30d"
   }
  }
 },
 "nbformat": 4,
 "nbformat_minor": 2
}
